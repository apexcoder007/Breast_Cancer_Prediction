{
 "cells": [
  {
   "cell_type": "markdown",
   "id": "4af3f068",
   "metadata": {
    "papermill": {
     "duration": 0.006696,
     "end_time": "2024-07-04T09:24:51.813849",
     "exception": false,
     "start_time": "2024-07-04T09:24:51.807153",
     "status": "completed"
    },
    "tags": []
   },
   "source": [
    "**Importing the Dependencies**"
   ]
  },
  {
   "cell_type": "code",
   "execution_count": 1,
   "id": "c9a7cef3",
   "metadata": {
    "execution": {
     "iopub.execute_input": "2024-07-04T09:24:51.827196Z",
     "iopub.status.busy": "2024-07-04T09:24:51.826927Z",
     "iopub.status.idle": "2024-07-04T09:24:56.222845Z",
     "shell.execute_reply": "2024-07-04T09:24:56.221902Z"
    },
    "papermill": {
     "duration": 4.405884,
     "end_time": "2024-07-04T09:24:56.225929",
     "exception": false,
     "start_time": "2024-07-04T09:24:51.820045",
     "status": "completed"
    },
    "tags": []
   },
   "outputs": [],
   "source": [
    "import torch \n",
    "import torch.nn as nn\n",
    "import torch.optim as optim\n",
    "from sklearn.datasets import load_breast_cancer\n",
    "from sklearn.model_selection import train_test_split\n",
    "from sklearn.preprocessing import StandardScaler"
   ]
  },
  {
   "cell_type": "markdown",
   "id": "6b3a6db0",
   "metadata": {
    "papermill": {
     "duration": 0.007919,
     "end_time": "2024-07-04T09:24:56.242842",
     "exception": false,
     "start_time": "2024-07-04T09:24:56.234923",
     "status": "completed"
    },
    "tags": []
   },
   "source": [
    "**Device Configuration**"
   ]
  },
  {
   "cell_type": "code",
   "execution_count": 2,
   "id": "073fd148",
   "metadata": {
    "execution": {
     "iopub.execute_input": "2024-07-04T09:24:56.258348Z",
     "iopub.status.busy": "2024-07-04T09:24:56.257536Z",
     "iopub.status.idle": "2024-07-04T09:24:56.344680Z",
     "shell.execute_reply": "2024-07-04T09:24:56.343551Z"
    },
    "papermill": {
     "duration": 0.097498,
     "end_time": "2024-07-04T09:24:56.347387",
     "exception": false,
     "start_time": "2024-07-04T09:24:56.249889",
     "status": "completed"
    },
    "tags": []
   },
   "outputs": [
    {
     "name": "stdout",
     "output_type": "stream",
     "text": [
      "Using device : cuda\n"
     ]
    }
   ],
   "source": [
    "#check for CUDA availability\n",
    "device = torch.device(\"cuda\" if torch.cuda.is_available() else \"cpu\")\n",
    "print(f\"Using device : {device}\")"
   ]
  },
  {
   "cell_type": "markdown",
   "id": "95e0541c",
   "metadata": {
    "papermill": {
     "duration": 0.006431,
     "end_time": "2024-07-04T09:24:56.360525",
     "exception": false,
     "start_time": "2024-07-04T09:24:56.354094",
     "status": "completed"
    },
    "tags": []
   },
   "source": [
    "**Data Collection and preprocessing  **"
   ]
  },
  {
   "cell_type": "code",
   "execution_count": 3,
   "id": "f52b4647",
   "metadata": {
    "execution": {
     "iopub.execute_input": "2024-07-04T09:24:56.374964Z",
     "iopub.status.busy": "2024-07-04T09:24:56.374182Z",
     "iopub.status.idle": "2024-07-04T09:24:56.396786Z",
     "shell.execute_reply": "2024-07-04T09:24:56.396033Z"
    },
    "papermill": {
     "duration": 0.031972,
     "end_time": "2024-07-04T09:24:56.398871",
     "exception": false,
     "start_time": "2024-07-04T09:24:56.366899",
     "status": "completed"
    },
    "tags": []
   },
   "outputs": [],
   "source": [
    "#load the breast cancer dataset\n",
    "data = load_breast_cancer()\n",
    "X = data.data\n",
    "y = data.target"
   ]
  },
  {
   "cell_type": "code",
   "execution_count": 4,
   "id": "e3630311",
   "metadata": {
    "execution": {
     "iopub.execute_input": "2024-07-04T09:24:56.414652Z",
     "iopub.status.busy": "2024-07-04T09:24:56.414327Z",
     "iopub.status.idle": "2024-07-04T09:24:56.420205Z",
     "shell.execute_reply": "2024-07-04T09:24:56.419021Z"
    },
    "papermill": {
     "duration": 0.017401,
     "end_time": "2024-07-04T09:24:56.422758",
     "exception": false,
     "start_time": "2024-07-04T09:24:56.405357",
     "status": "completed"
    },
    "tags": []
   },
   "outputs": [
    {
     "name": "stdout",
     "output_type": "stream",
     "text": [
      "[[1.799e+01 1.038e+01 1.228e+02 ... 2.654e-01 4.601e-01 1.189e-01]\n",
      " [2.057e+01 1.777e+01 1.329e+02 ... 1.860e-01 2.750e-01 8.902e-02]\n",
      " [1.969e+01 2.125e+01 1.300e+02 ... 2.430e-01 3.613e-01 8.758e-02]\n",
      " ...\n",
      " [1.660e+01 2.808e+01 1.083e+02 ... 1.418e-01 2.218e-01 7.820e-02]\n",
      " [2.060e+01 2.933e+01 1.401e+02 ... 2.650e-01 4.087e-01 1.240e-01]\n",
      " [7.760e+00 2.454e+01 4.792e+01 ... 0.000e+00 2.871e-01 7.039e-02]]\n"
     ]
    }
   ],
   "source": [
    "print(X)"
   ]
  },
  {
   "cell_type": "code",
   "execution_count": 5,
   "id": "c14aba98",
   "metadata": {
    "execution": {
     "iopub.execute_input": "2024-07-04T09:24:56.440258Z",
     "iopub.status.busy": "2024-07-04T09:24:56.440000Z",
     "iopub.status.idle": "2024-07-04T09:24:56.446119Z",
     "shell.execute_reply": "2024-07-04T09:24:56.445198Z"
    },
    "papermill": {
     "duration": 0.016903,
     "end_time": "2024-07-04T09:24:56.448309",
     "exception": false,
     "start_time": "2024-07-04T09:24:56.431406",
     "status": "completed"
    },
    "tags": []
   },
   "outputs": [
    {
     "name": "stdout",
     "output_type": "stream",
     "text": [
      "[0 0 0 0 0 0 0 0 0 0 0 0 0 0 0 0 0 0 0 1 1 1 0 0 0 0 0 0 0 0 0 0 0 0 0 0 0\n",
      " 1 0 0 0 0 0 0 0 0 1 0 1 1 1 1 1 0 0 1 0 0 1 1 1 1 0 1 0 0 1 1 1 1 0 1 0 0\n",
      " 1 0 1 0 0 1 1 1 0 0 1 0 0 0 1 1 1 0 1 1 0 0 1 1 1 0 0 1 1 1 1 0 1 1 0 1 1\n",
      " 1 1 1 1 1 1 0 0 0 1 0 0 1 1 1 0 0 1 0 1 0 0 1 0 0 1 1 0 1 1 0 1 1 1 1 0 1\n",
      " 1 1 1 1 1 1 1 1 0 1 1 1 1 0 0 1 0 1 1 0 0 1 1 0 0 1 1 1 1 0 1 1 0 0 0 1 0\n",
      " 1 0 1 1 1 0 1 1 0 0 1 0 0 0 0 1 0 0 0 1 0 1 0 1 1 0 1 0 0 0 0 1 1 0 0 1 1\n",
      " 1 0 1 1 1 1 1 0 0 1 1 0 1 1 0 0 1 0 1 1 1 1 0 1 1 1 1 1 0 1 0 0 0 0 0 0 0\n",
      " 0 0 0 0 0 0 0 1 1 1 1 1 1 0 1 0 1 1 0 1 1 0 1 0 0 1 1 1 1 1 1 1 1 1 1 1 1\n",
      " 1 0 1 1 0 1 0 1 1 1 1 1 1 1 1 1 1 1 1 1 1 0 1 1 1 0 1 0 1 1 1 1 0 0 0 1 1\n",
      " 1 1 0 1 0 1 0 1 1 1 0 1 1 1 1 1 1 1 0 0 0 1 1 1 1 1 1 1 1 1 1 1 0 0 1 0 0\n",
      " 0 1 0 0 1 1 1 1 1 0 1 1 1 1 1 0 1 1 1 0 1 1 0 0 1 1 1 1 1 1 0 1 1 1 1 1 1\n",
      " 1 0 1 1 1 1 1 0 1 1 0 1 1 1 1 1 1 1 1 1 1 1 1 0 1 0 0 1 0 1 1 1 1 1 0 1 1\n",
      " 0 1 0 1 1 0 1 0 1 1 1 1 1 1 1 1 0 0 1 1 1 1 1 1 0 1 1 1 1 1 1 1 1 1 1 0 1\n",
      " 1 1 1 1 1 1 0 1 0 1 1 0 1 1 1 1 1 0 0 1 0 1 0 1 1 1 1 1 0 1 1 0 1 0 1 0 0\n",
      " 1 1 1 0 1 1 1 1 1 1 1 1 1 1 1 0 1 0 0 1 1 1 1 1 1 1 1 1 1 1 1 1 1 1 1 1 1\n",
      " 1 1 1 1 1 1 1 0 0 0 0 0 0 1]\n"
     ]
    }
   ],
   "source": [
    "print(y)"
   ]
  },
  {
   "cell_type": "code",
   "execution_count": 6,
   "id": "e00cd7ad",
   "metadata": {
    "execution": {
     "iopub.execute_input": "2024-07-04T09:24:56.462758Z",
     "iopub.status.busy": "2024-07-04T09:24:56.462088Z",
     "iopub.status.idle": "2024-07-04T09:24:56.466738Z",
     "shell.execute_reply": "2024-07-04T09:24:56.465801Z"
    },
    "papermill": {
     "duration": 0.014278,
     "end_time": "2024-07-04T09:24:56.469093",
     "exception": false,
     "start_time": "2024-07-04T09:24:56.454815",
     "status": "completed"
    },
    "tags": []
   },
   "outputs": [
    {
     "name": "stdout",
     "output_type": "stream",
     "text": [
      "[0 0 0 0 0]\n"
     ]
    }
   ],
   "source": [
    "print(y[:5])"
   ]
  },
  {
   "cell_type": "code",
   "execution_count": 7,
   "id": "7b716b1f",
   "metadata": {
    "execution": {
     "iopub.execute_input": "2024-07-04T09:24:56.485907Z",
     "iopub.status.busy": "2024-07-04T09:24:56.485611Z",
     "iopub.status.idle": "2024-07-04T09:24:56.493050Z",
     "shell.execute_reply": "2024-07-04T09:24:56.492178Z"
    },
    "papermill": {
     "duration": 0.017609,
     "end_time": "2024-07-04T09:24:56.495035",
     "exception": false,
     "start_time": "2024-07-04T09:24:56.477426",
     "status": "completed"
    },
    "tags": []
   },
   "outputs": [],
   "source": [
    "#split the data into training and test set \n",
    "X_train, X_test, y_train, y_test = train_test_split(X,y,test_size=0.2, random_state=42)"
   ]
  },
  {
   "cell_type": "code",
   "execution_count": 8,
   "id": "84049933",
   "metadata": {
    "execution": {
     "iopub.execute_input": "2024-07-04T09:24:56.509074Z",
     "iopub.status.busy": "2024-07-04T09:24:56.508784Z",
     "iopub.status.idle": "2024-07-04T09:24:56.513935Z",
     "shell.execute_reply": "2024-07-04T09:24:56.512684Z"
    },
    "papermill": {
     "duration": 0.014425,
     "end_time": "2024-07-04T09:24:56.515931",
     "exception": false,
     "start_time": "2024-07-04T09:24:56.501506",
     "status": "completed"
    },
    "tags": []
   },
   "outputs": [
    {
     "name": "stdout",
     "output_type": "stream",
     "text": [
      "(569, 30)\n",
      "(455, 30)\n",
      "(114, 30)\n"
     ]
    }
   ],
   "source": [
    "print(X.shape)\n",
    "print(X_train.shape)\n",
    "print(X_test.shape)"
   ]
  },
  {
   "cell_type": "code",
   "execution_count": 9,
   "id": "ae66ca5e",
   "metadata": {
    "execution": {
     "iopub.execute_input": "2024-07-04T09:24:56.530360Z",
     "iopub.status.busy": "2024-07-04T09:24:56.530034Z",
     "iopub.status.idle": "2024-07-04T09:24:56.538392Z",
     "shell.execute_reply": "2024-07-04T09:24:56.537462Z"
    },
    "papermill": {
     "duration": 0.018068,
     "end_time": "2024-07-04T09:24:56.540517",
     "exception": false,
     "start_time": "2024-07-04T09:24:56.522449",
     "status": "completed"
    },
    "tags": []
   },
   "outputs": [],
   "source": [
    "#standardize the data using Standard Scaler\n",
    "scaler = StandardScaler()\n",
    "\n",
    "X_train = scaler.fit_transform(X_train)\n",
    "X_test = scaler.transform(X_test)"
   ]
  },
  {
   "cell_type": "code",
   "execution_count": 10,
   "id": "ac113adc",
   "metadata": {
    "execution": {
     "iopub.execute_input": "2024-07-04T09:24:56.555357Z",
     "iopub.status.busy": "2024-07-04T09:24:56.555046Z",
     "iopub.status.idle": "2024-07-04T09:24:56.562243Z",
     "shell.execute_reply": "2024-07-04T09:24:56.561243Z"
    },
    "papermill": {
     "duration": 0.017131,
     "end_time": "2024-07-04T09:24:56.564269",
     "exception": false,
     "start_time": "2024-07-04T09:24:56.547138",
     "status": "completed"
    },
    "tags": []
   },
   "outputs": [
    {
     "data": {
      "text/plain": [
       "numpy.ndarray"
      ]
     },
     "execution_count": 10,
     "metadata": {},
     "output_type": "execute_result"
    }
   ],
   "source": [
    "type(X_train)"
   ]
  },
  {
   "cell_type": "code",
   "execution_count": 11,
   "id": "6b3ff067",
   "metadata": {
    "execution": {
     "iopub.execute_input": "2024-07-04T09:24:56.579134Z",
     "iopub.status.busy": "2024-07-04T09:24:56.578429Z",
     "iopub.status.idle": "2024-07-04T09:24:56.819090Z",
     "shell.execute_reply": "2024-07-04T09:24:56.817962Z"
    },
    "papermill": {
     "duration": 0.250794,
     "end_time": "2024-07-04T09:24:56.821718",
     "exception": false,
     "start_time": "2024-07-04T09:24:56.570924",
     "status": "completed"
    },
    "tags": []
   },
   "outputs": [],
   "source": [
    "#convert data into PyTorch tensors and move it to GPU \n",
    "X_train = torch.tensor(X_train, dtype=torch.float32).to(device)\n",
    "y_train = torch.tensor(y_train, dtype=torch.float32).to(device)\n",
    "X_test = torch.tensor(X_test, dtype=torch.float32).to(device)\n",
    "y_test = torch.tensor(y_test, dtype=torch.float32).to(device)"
   ]
  },
  {
   "cell_type": "markdown",
   "id": "214b22c8",
   "metadata": {
    "papermill": {
     "duration": 0.009391,
     "end_time": "2024-07-04T09:24:56.840800",
     "exception": false,
     "start_time": "2024-07-04T09:24:56.831409",
     "status": "completed"
    },
    "tags": []
   },
   "source": [
    "**Neural Network Architecture**"
   ]
  },
  {
   "cell_type": "code",
   "execution_count": 12,
   "id": "035f8a6d",
   "metadata": {
    "execution": {
     "iopub.execute_input": "2024-07-04T09:24:56.862128Z",
     "iopub.status.busy": "2024-07-04T09:24:56.861766Z",
     "iopub.status.idle": "2024-07-04T09:24:56.869911Z",
     "shell.execute_reply": "2024-07-04T09:24:56.868516Z"
    },
    "papermill": {
     "duration": 0.02256,
     "end_time": "2024-07-04T09:24:56.873895",
     "exception": false,
     "start_time": "2024-07-04T09:24:56.851335",
     "status": "completed"
    },
    "tags": []
   },
   "outputs": [],
   "source": [
    "#define the neural network architecture\n",
    "\n",
    "class NeuralNet(nn.Module):\n",
    "    def __init__(self, input_size, hidden_size, output_size):\n",
    "        super(NeuralNet,self).__init__()\n",
    "        self.fc1 = nn.Linear(input_size, hidden_size)\n",
    "        self.relu = nn.ReLU()\n",
    "        self.fc2 = nn.Linear(hidden_size, output_size)\n",
    "        self.sigmoid = nn.Sigmoid()\n",
    "    \n",
    "    def forward(self,x):\n",
    "        out = self.fc1(x)\n",
    "        out = self.relu(out)\n",
    "        out = self.fc2(out)\n",
    "        out = self.sigmoid(out)\n",
    "        return out"
   ]
  },
  {
   "cell_type": "code",
   "execution_count": 13,
   "id": "f91d5fdc",
   "metadata": {
    "execution": {
     "iopub.execute_input": "2024-07-04T09:24:56.891774Z",
     "iopub.status.busy": "2024-07-04T09:24:56.891135Z",
     "iopub.status.idle": "2024-07-04T09:24:56.896012Z",
     "shell.execute_reply": "2024-07-04T09:24:56.895052Z"
    },
    "papermill": {
     "duration": 0.01627,
     "end_time": "2024-07-04T09:24:56.898019",
     "exception": false,
     "start_time": "2024-07-04T09:24:56.881749",
     "status": "completed"
    },
    "tags": []
   },
   "outputs": [],
   "source": [
    "#define hyperparameters\n",
    "input_size = X_train.shape[1]\n",
    "hidden_size = 64\n",
    "output_size = 1\n",
    "learning_rate = 0.001\n",
    "num_epochs = 100"
   ]
  },
  {
   "cell_type": "code",
   "execution_count": 14,
   "id": "6dca92e1",
   "metadata": {
    "execution": {
     "iopub.execute_input": "2024-07-04T09:24:56.912600Z",
     "iopub.status.busy": "2024-07-04T09:24:56.912278Z",
     "iopub.status.idle": "2024-07-04T09:24:56.929226Z",
     "shell.execute_reply": "2024-07-04T09:24:56.928398Z"
    },
    "papermill": {
     "duration": 0.026786,
     "end_time": "2024-07-04T09:24:56.931547",
     "exception": false,
     "start_time": "2024-07-04T09:24:56.904761",
     "status": "completed"
    },
    "tags": []
   },
   "outputs": [],
   "source": [
    "#initialise the neural network and move it to GPU\n",
    "model = NeuralNet(input_size, hidden_size, output_size).to(device)"
   ]
  },
  {
   "cell_type": "code",
   "execution_count": 15,
   "id": "2221d0e3",
   "metadata": {
    "execution": {
     "iopub.execute_input": "2024-07-04T09:24:56.952967Z",
     "iopub.status.busy": "2024-07-04T09:24:56.952690Z",
     "iopub.status.idle": "2024-07-04T09:24:58.220317Z",
     "shell.execute_reply": "2024-07-04T09:24:58.219602Z"
    },
    "papermill": {
     "duration": 1.281622,
     "end_time": "2024-07-04T09:24:58.222580",
     "exception": false,
     "start_time": "2024-07-04T09:24:56.940958",
     "status": "completed"
    },
    "tags": []
   },
   "outputs": [],
   "source": [
    "#define loss and the optimiser\n",
    "criterion = nn.BCELoss()\n",
    "optimiser = optim.Adam(model.parameters(),lr=learning_rate)"
   ]
  },
  {
   "cell_type": "markdown",
   "id": "e2250e00",
   "metadata": {
    "papermill": {
     "duration": 0.0065,
     "end_time": "2024-07-04T09:24:58.236193",
     "exception": false,
     "start_time": "2024-07-04T09:24:58.229693",
     "status": "completed"
    },
    "tags": []
   },
   "source": [
    "**Training the Neural Network**"
   ]
  },
  {
   "cell_type": "code",
   "execution_count": 16,
   "id": "6fc42a74",
   "metadata": {
    "execution": {
     "iopub.execute_input": "2024-07-04T09:24:58.251050Z",
     "iopub.status.busy": "2024-07-04T09:24:58.250638Z",
     "iopub.status.idle": "2024-07-04T09:24:58.819742Z",
     "shell.execute_reply": "2024-07-04T09:24:58.818864Z"
    },
    "papermill": {
     "duration": 0.579216,
     "end_time": "2024-07-04T09:24:58.822127",
     "exception": false,
     "start_time": "2024-07-04T09:24:58.242911",
     "status": "completed"
    },
    "tags": []
   },
   "outputs": [
    {
     "name": "stdout",
     "output_type": "stream",
     "text": [
      "Epoch [10/100], Loss : 0.5628, Accuracy : 83.96%\n",
      "Epoch [20/100], Loss : 0.4424, Accuracy : 91.43%\n",
      "Epoch [30/100], Loss : 0.3499, Accuracy : 93.19%\n",
      "Epoch [40/100], Loss : 0.2799, Accuracy : 93.85%\n",
      "Epoch [50/100], Loss : 0.2286, Accuracy : 94.73%\n",
      "Epoch [60/100], Loss : 0.1919, Accuracy : 95.16%\n",
      "Epoch [70/100], Loss : 0.1653, Accuracy : 95.38%\n",
      "Epoch [80/100], Loss : 0.1458, Accuracy : 96.48%\n",
      "Epoch [90/100], Loss : 0.1308, Accuracy : 97.14%\n",
      "Epoch [100/100], Loss : 0.1189, Accuracy : 97.80%\n"
     ]
    }
   ],
   "source": [
    "#training the model \n",
    "for epoch in range(num_epochs):\n",
    "    model.train()\n",
    "    optimiser.zero_grad()\n",
    "    outputs = model(X_train)\n",
    "    loss = criterion(outputs,y_train.view(-1,1))\n",
    "    loss.backward()\n",
    "    optimiser.step()\n",
    "    \n",
    "    #calculate accuracy \n",
    "    with torch.no_grad():\n",
    "        predicted = outputs.round()\n",
    "        correct = (predicted == y_train.view(-1,1)).float().sum()\n",
    "        accuracy = correct/y_train.size(0)\n",
    "    \n",
    "    if(epoch+1)%10 == 0:\n",
    "        print(f\"Epoch [{epoch+1}/{num_epochs}], Loss : {loss.item():.4f}, Accuracy : {accuracy.item()*100:.2f}%\")\n",
    "                   "
   ]
  },
  {
   "cell_type": "markdown",
   "id": "84a13705",
   "metadata": {
    "papermill": {
     "duration": 0.006651,
     "end_time": "2024-07-04T09:24:58.835769",
     "exception": false,
     "start_time": "2024-07-04T09:24:58.829118",
     "status": "completed"
    },
    "tags": []
   },
   "source": [
    "**Model Evaluation**"
   ]
  },
  {
   "cell_type": "code",
   "execution_count": 17,
   "id": "45a8e5e3",
   "metadata": {
    "execution": {
     "iopub.execute_input": "2024-07-04T09:24:58.850256Z",
     "iopub.status.busy": "2024-07-04T09:24:58.849962Z",
     "iopub.status.idle": "2024-07-04T09:24:58.856550Z",
     "shell.execute_reply": "2024-07-04T09:24:58.855548Z"
    },
    "papermill": {
     "duration": 0.016081,
     "end_time": "2024-07-04T09:24:58.858434",
     "exception": false,
     "start_time": "2024-07-04T09:24:58.842353",
     "status": "completed"
    },
    "tags": []
   },
   "outputs": [
    {
     "name": "stdout",
     "output_type": "stream",
     "text": [
      "Accuracy on training data : 97.80%\n"
     ]
    }
   ],
   "source": [
    "#evaluation on training set\n",
    "model.eval()\n",
    "with torch.no_grad():\n",
    "    outputs = model(X_train)\n",
    "    predicted = outputs.round()\n",
    "    correct = (predicted == y_train.view(-1,1)).float().sum()\n",
    "    accuracy = correct/y_train.size(0)\n",
    "    print(f\"Accuracy on training data : {accuracy.item()*100:.2f}%\")\n",
    "    "
   ]
  },
  {
   "cell_type": "code",
   "execution_count": 18,
   "id": "c48dd04b",
   "metadata": {
    "execution": {
     "iopub.execute_input": "2024-07-04T09:24:58.873027Z",
     "iopub.status.busy": "2024-07-04T09:24:58.872745Z",
     "iopub.status.idle": "2024-07-04T09:24:58.892800Z",
     "shell.execute_reply": "2024-07-04T09:24:58.891889Z"
    },
    "papermill": {
     "duration": 0.029395,
     "end_time": "2024-07-04T09:24:58.894622",
     "exception": false,
     "start_time": "2024-07-04T09:24:58.865227",
     "status": "completed"
    },
    "tags": []
   },
   "outputs": [
    {
     "name": "stdout",
     "output_type": "stream",
     "text": [
      "Accuracy on test data : 97.37%\n"
     ]
    }
   ],
   "source": [
    "#evaluation on test set\n",
    "model.eval()\n",
    "with torch.no_grad():\n",
    "    outputs = model(X_test)\n",
    "    predicted = outputs.round()\n",
    "    correct = (predicted == y_test.view(-1,1)).float().sum()\n",
    "    accuracy = correct/y_test.size(0)\n",
    "    print(f\"Accuracy on test data : {accuracy.item()*100:.2f}%\")\n",
    "    \n"
   ]
  }
 ],
 "metadata": {
  "kaggle": {
   "accelerator": "nvidiaTeslaT4",
   "dataSources": [],
   "dockerImageVersionId": 30733,
   "isGpuEnabled": true,
   "isInternetEnabled": true,
   "language": "python",
   "sourceType": "notebook"
  },
  "kernelspec": {
   "display_name": "Python 3",
   "language": "python",
   "name": "python3"
  },
  "language_info": {
   "codemirror_mode": {
    "name": "ipython",
    "version": 3
   },
   "file_extension": ".py",
   "mimetype": "text/x-python",
   "name": "python",
   "nbconvert_exporter": "python",
   "pygments_lexer": "ipython3",
   "version": "3.10.13"
  },
  "papermill": {
   "default_parameters": {},
   "duration": 10.857008,
   "end_time": "2024-07-04T09:25:00.122899",
   "environment_variables": {},
   "exception": null,
   "input_path": "__notebook__.ipynb",
   "output_path": "__notebook__.ipynb",
   "parameters": {},
   "start_time": "2024-07-04T09:24:49.265891",
   "version": "2.5.0"
  }
 },
 "nbformat": 4,
 "nbformat_minor": 5
}
